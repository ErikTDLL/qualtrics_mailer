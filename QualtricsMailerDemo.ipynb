{
 "cells": [
  {
   "cell_type": "markdown",
   "metadata": {
    "slideshow": {
     "slide_type": "slide"
    }
   },
   "source": [
    "# <font color=#7D0C00>Qualtrics Mailer Demo<font>\n",
    "<hr>\n",
    "\n",
    "### <font color=#7D0C00>By Kai Chang<font>\n",
    "### <font color=#7D0C00>Bastyr<font> <font color=#CCAD6B>University<font>"
   ]
  },
  {
   "cell_type": "markdown",
   "metadata": {},
   "source": [
    "This is the survey we will be distributing today (you will have you're own survey)\n",
    "<br>\n",
    "Preview Survey: https://co1.qualtrics.com/jfe/preview/SV_8e5rftnvq20yWgt?Q_CHL=preview"
   ]
  },
  {
   "cell_type": "markdown",
   "metadata": {
    "slideshow": {
     "slide_type": "slide"
    }
   },
   "source": [
    "### Step 1: Import Necessary Libraries for the Project"
   ]
  },
  {
   "cell_type": "code",
   "execution_count": 1,
   "metadata": {
    "collapsed": true,
    "slideshow": {
     "slide_type": "fragment"
    }
   },
   "outputs": [],
   "source": [
    "from datetime import datetime\n",
    "from pprint import pprint\n",
    "\n",
    "from qualtrics_account import QualtricsAccount\n",
    "from qualtrics_mailing_list import QualtricsMailingList\n",
    "from qualtrics_distribution import QualtricsDistribution"
   ]
  },
  {
   "cell_type": "markdown",
   "metadata": {
    "slideshow": {
     "slide_type": "fragment"
    }
   },
   "source": [
    "Here, we are importing all the modules that will be used in the program. We took the hard work out so you just need to input values relevant to your survey project"
   ]
  },
  {
   "cell_type": "markdown",
   "metadata": {
    "slideshow": {
     "slide_type": "slide"
    }
   },
   "source": [
    "### Step 2: Set data center and API token"
   ]
  },
  {
   "cell_type": "markdown",
   "metadata": {
    "slideshow": {
     "slide_type": "slide"
    }
   },
   "source": [
    "1. Login to Qualtrics.\n",
    "2. Go to Account Settings in the user dropdown in the upper-right corner.\n",
    "<br>\n",
    "<img ng-src=\"https://files.readme.io/fJGx0OGMTOzPxBNSfZKS_accounSettigns.png\" src=\"https://files.readme.io/fJGx0OGMTOzPxBNSfZKS_accounSettigns.png\">"
   ]
  },
  {
   "cell_type": "markdown",
   "metadata": {
    "slideshow": {
     "slide_type": "slide"
    }
   },
   "source": [
    "<ol start=\"3\">\n",
    "<li> Navigate to Qualtrics IDs in the menu across the top\n",
    "</ol>\n",
    "<img ng-src=\"https://files.readme.io/5xGwpcuSG6bcTcGMHiMo_example.jpg\" src=\"https://files.readme.io/5xGwpcuSG6bcTcGMHiMo_example.jpg\">\n",
    "Here you will find your API Token, Survey IDs, Organization ID, and Library IDs.\n",
    "To find the IDs for panels, messages, or other library elements simply click the relevant ID containing them."
   ]
  },
  {
   "cell_type": "markdown",
   "metadata": {
    "slideshow": {
     "slide_type": "slide"
    }
   },
   "source": [
    "#### Set your data center and API token"
   ]
  },
  {
   "cell_type": "code",
   "execution_count": 2,
   "metadata": {
    "collapsed": true,
    "slideshow": {
     "slide_type": "fragment"
    }
   },
   "outputs": [],
   "source": [
    "with open('token.ini') as fp:\n",
    "    api_token = fp.readline()\n",
    "    data_center = 'co1'"
   ]
  },
  {
   "cell_type": "markdown",
   "metadata": {
    "slideshow": {
     "slide_type": "subslide"
    }
   },
   "source": [
    "Initialize Qualtrics Account object"
   ]
  },
  {
   "cell_type": "code",
   "execution_count": 3,
   "metadata": {
    "collapsed": true,
    "slideshow": {
     "slide_type": "fragment"
    }
   },
   "outputs": [],
   "source": [
    "account = QualtricsAccount(api_token, data_center)"
   ]
  },
  {
   "cell_type": "markdown",
   "metadata": {
    "slideshow": {
     "slide_type": "slide"
    }
   },
   "source": [
    "### Step 3: Initialize your Mailing List in Qualtrics"
   ]
  },
  {
   "cell_type": "markdown",
   "metadata": {
    "slideshow": {
     "slide_type": "subslide"
    }
   },
   "source": [
    "We set:\n",
    "<ul>\n",
    "<li>library id\n",
    "<br>\n",
    "<img src=\"https://pxidbg.bn1301.livefilestore.com/y4m_GO8sM4eMsLFP4yD38JAjkWkRIrx6WT_zeGRB68o3VZmm-Rc615zqaoVcCSVQz-M6BdmQJC1B8pxKT0HUaT0HEMHn52SNRi1rR71KpMwOYUsV2Xp95Mlhk6eMOs8PcQ5p_U-Hq2yMG4Xk4Avk9bBgo29BqVhng1QJ-C1NRaWUQ7wA1_VFG3ptHXs_BzE8Pip6H9fGq0LKdgXnMpxm4YOqQ?width=676&height=388&cropmode=none\" width=\"676\" height=\"388\" />\n",
    "<li>mailing list\n",
    "<li>category name \n",
    "</ul>\n",
    "\n",
    "Then initialize the new mailing list"
   ]
  },
  {
   "cell_type": "code",
   "execution_count": 4,
   "metadata": {
    "collapsed": true,
    "slideshow": {
     "slide_type": "fragment"
    }
   },
   "outputs": [],
   "source": [
    "library_id = 'GR_eeYZVSJXPncs4Gp'\n",
    "mailing_list_name = datetime.now().strftime('%Y%m%d-%H%M%S') #20171110-103000\n",
    "category_name = 'PNAIRP_2017'\n",
    "\n",
    "# initialize Qualtrics Mailing List object\n",
    "mailing_list = QualtricsMailingList(\n",
    "    account,\n",
    "    library_id,\n",
    "    mailing_list_name,\n",
    "    category_name\n",
    ")"
   ]
  },
  {
   "cell_type": "markdown",
   "metadata": {
    "slideshow": {
     "slide_type": "slide"
    }
   },
   "source": [
    "We then import example contact list from test folder. \n",
    "<ul style=\"list-style-type:circle\">\n",
    "<li> At work I've connected it directly to a SQL query. </li>\n",
    "<li> Lots of possibilities for getting data! </li>\n",
    "</ul>"
   ]
  },
  {
   "cell_type": "code",
   "execution_count": 5,
   "metadata": {
    "collapsed": true,
    "slideshow": {
     "slide_type": "fragment"
    }
   },
   "outputs": [],
   "source": [
    "with open('example_mailing_list.csv') as fp:\n",
    "    mailing_list.import_contact_list_from_csv_file(fp)"
   ]
  },
  {
   "cell_type": "markdown",
   "metadata": {
    "slideshow": {
     "slide_type": "slide"
    }
   },
   "source": [
    "Check to see the list is correct"
   ]
  },
  {
   "cell_type": "code",
   "execution_count": 6,
   "metadata": {
    "slideshow": {
     "slide_type": "fragment"
    }
   },
   "outputs": [
    {
     "name": "stdout",
     "output_type": "stream",
     "text": [
      "[{'email': 'first@user.test.please.ignore',\n",
      "  'emailHistory': [],\n",
      "  'embeddedData': None,\n",
      "  'externalDataReference': '12345',\n",
      "  'firstName': 'first',\n",
      "  'id': 'MLRP_0pkZI1CSc5DIhRr',\n",
      "  'language': None,\n",
      "  'lastName': 'user1',\n",
      "  'responseHistory': [],\n",
      "  'unsubscribed': False},\n",
      " {'email': 'second@user2.test.please.ignore',\n",
      "  'emailHistory': [],\n",
      "  'embeddedData': None,\n",
      "  'externalDataReference': '23456',\n",
      "  'firstName': 'second',\n",
      "  'id': 'MLRP_3VsA8T8O7MpK6vH',\n",
      "  'language': None,\n",
      "  'lastName': 'user2',\n",
      "  'responseHistory': [],\n",
      "  'unsubscribed': False},\n",
      " {'email': 'third@user3.test.please.ignore',\n",
      "  'emailHistory': [],\n",
      "  'embeddedData': None,\n",
      "  'externalDataReference': '45667',\n",
      "  'firstName': 'third',\n",
      "  'id': 'MLRP_eG3ZetutP5twxb7',\n",
      "  'language': None,\n",
      "  'lastName': 'user3',\n",
      "  'responseHistory': [],\n",
      "  'unsubscribed': False}]\n"
     ]
    }
   ],
   "source": [
    "pprint(mailing_list.contact_list)"
   ]
  },
  {
   "cell_type": "markdown",
   "metadata": {
    "slideshow": {
     "slide_type": "slide"
    }
   },
   "source": [
    "## Step 4: Distribute the Survey"
   ]
  },
  {
   "cell_type": "markdown",
   "metadata": {
    "slideshow": {
     "slide_type": "subslide"
    }
   },
   "source": [
    "We set the:\n",
    "<ul style=\"list-style-type:circle\">\n",
    "<li> message id </li>\n",
    "<br>\n",
    "<img src=\"https://xgtcyw.bn1301.livefilestore.com/y4m9G8U9RcrT3QAx6fnbyr-enm5exz9uf7ohVssf0O09rTqWRppbuKtyIz3JBZo9vfvSHkurM2ijNT5Lm4UhhL2unEKg3588FsTyztUv_ofmBANP9fpM9HmuASWJ5QXve_yzhZBVGyAR9haZ7Pcb6Eh7-HeW8jhMbnd1hl4BvueSeLpYMxsfiUEyS9V4Zdudth3tsvmTy_XChTFWern0aKLeA?width=620&height=148&cropmode=none\" width=\"620\" height=\"148\" />\n",
    "<li> survey id </li>\n",
    "<br>\n",
    "<img src=\"https://hlpjtg.bn1301.livefilestore.com/y4mm4y3cgv_pAtpCc89u2FatJq_wX7p_gDfxuRskhj_9fVXLHPgdMDMlJL55Z5_y1u_5MEZs6yD_mZSjS76F68uKfvGDpFmOUEa6UnaqO-TM6AjriYjXFcEni2hIfZv2sfCZwBiprRRuCYbyQgdvTT0VTOA6hoc3jpJZe0MHOqUrOfaClTTVEoxKicaJxUxWYeQ0qArJAjkh3uJyFMiQx9UpQ?width=610&height=254&cropmode=none\" width=\"610\" height=\"254\" />\n",
    "<li> send date </li>\n",
    "<li> from name </li>\n",
    "<li> reply email </li>\n",
    "<li> subject </li>\n",
    "</ul>"
   ]
  },
  {
   "cell_type": "code",
   "execution_count": 7,
   "metadata": {
    "collapsed": true,
    "slideshow": {
     "slide_type": "fragment"
    }
   },
   "outputs": [],
   "source": [
    "message_id = 'MS_1S2iyZY2k46MqQR'\n",
    "survey_id = 'SV_8e5rftnvq20yWgt'\n",
    "send_date = datetime.now().strftime('%Y-%m-%dT%H:%M:%SZ') #2017-11-10T10:30:00Z-8:00\n",
    "from_name = 'Kai Chang'\n",
    "reply_email = 'kchang@bastyr.edu'\n",
    "subject = 'What are your thoughts on this TACO CAT?'\n",
    "distribution = QualtricsDistribution(\n",
    "    mailing_list,\n",
    "    message_id,\n",
    "    survey_id,\n",
    "    send_date,\n",
    "    from_name,\n",
    "    reply_email,\n",
    "    subject,\n",
    ")"
   ]
  },
  {
   "cell_type": "markdown",
   "metadata": {
    "slideshow": {
     "slide_type": "slide"
    }
   },
   "source": [
    "Check to see the distribution is correctly initialized"
   ]
  },
  {
   "cell_type": "code",
   "execution_count": 8,
   "metadata": {
    "slideshow": {
     "slide_type": "fragment"
    }
   },
   "outputs": [
    {
     "name": "stdout",
     "output_type": "stream",
     "text": [
      "{'createdDate': '2017-11-10T18:40:18Z',\n",
      " 'headers': {'fromEmail': 'noreply@qemailserver.com',\n",
      "             'fromName': 'Kai Chang',\n",
      "             'replyToEmail': 'kchang@bastyr.edu',\n",
      "             'subject': 'What are your thoughts on this TACO CAT?'},\n",
      " 'id': 'EMD_887nswGomRpaJQV',\n",
      " 'message': {'libraryId': 'GR_eeYZVSJXPncs4Gp',\n",
      "             'messageId': 'MS_1S2iyZY2k46MqQR',\n",
      "             'messageText': None},\n",
      " 'modifiedDate': '2017-11-10T18:40:20Z',\n",
      " 'organizationId': 'bastyr',\n",
      " 'ownerId': 'UR_4IP2eN6sETOl5pW',\n",
      " 'parentDistributionId': None,\n",
      " 'recipients': {'contactId': None,\n",
      "                'libraryId': 'GR_eeYZVSJXPncs4Gp',\n",
      "                'mailingListId': 'ML_eEUfS6k5PtfZZNH',\n",
      "                'sampleId': None},\n",
      " 'requestStatus': 'Done',\n",
      " 'requestType': 'Invite',\n",
      " 'sendDate': '2017-11-10T18:40:18Z',\n",
      " 'stats': {'blocked': 0,\n",
      "           'bounced': 3,\n",
      "           'complaints': 0,\n",
      "           'failed': 0,\n",
      "           'finished': 0,\n",
      "           'opened': 0,\n",
      "           'sent': 3,\n",
      "           'skipped': 0,\n",
      "           'started': 0},\n",
      " 'surveyLink': {'expirationDate': '2018-01-09T18:40:18Z',\n",
      "                'linkType': 'Individual',\n",
      "                'surveyId': 'SV_8e5rftnvq20yWgt'}}\n"
     ]
    }
   ],
   "source": [
    "pprint(distribution.details)"
   ]
  }
 ],
 "metadata": {
  "celltoolbar": "Slideshow",
  "kernelspec": {
   "display_name": "Python 3",
   "language": "python",
   "name": "python3"
  },
  "language_info": {
   "codemirror_mode": {
    "name": "ipython",
    "version": 3
   },
   "file_extension": ".py",
   "mimetype": "text/x-python",
   "name": "python",
   "nbconvert_exporter": "python",
   "pygments_lexer": "ipython3",
   "version": "3.6.2"
  }
 },
 "nbformat": 4,
 "nbformat_minor": 2
}
